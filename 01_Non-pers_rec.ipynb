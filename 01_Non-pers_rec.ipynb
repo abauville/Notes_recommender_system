{
 "cells": [
  {
   "cell_type": "markdown",
   "id": "1237ef28",
   "metadata": {},
   "source": [
    "# Non-personalized recommandation"
   ]
  },
  {
   "cell_type": "code",
   "execution_count": 1,
   "id": "b8694a5f",
   "metadata": {},
   "outputs": [],
   "source": [
    "# Imports\n",
    "\n",
    "import pandas as pd\n",
    "import numpy as np\n",
    "import seaborn as sns\n",
    "import plotly.express as px\n",
    "import matplotlib.pyplot as plt\n",
    "from itertools import permutations\n",
    "from time import time\n",
    "import contextlib\n",
    "\n",
    "@contextlib.contextmanager\n",
    "def timer(msg='timer'):\n",
    "    tic = time()\n",
    "    yield\n",
    "    return print(f\"{msg}: {time() - tic:.2f}\")"
   ]
  },
  {
   "cell_type": "code",
   "execution_count": 2,
   "id": "6734adc7",
   "metadata": {},
   "outputs": [
    {
     "data": {
      "text/html": [
       "<div>\n",
       "<style scoped>\n",
       "    .dataframe tbody tr th:only-of-type {\n",
       "        vertical-align: middle;\n",
       "    }\n",
       "\n",
       "    .dataframe tbody tr th {\n",
       "        vertical-align: top;\n",
       "    }\n",
       "\n",
       "    .dataframe thead th {\n",
       "        text-align: right;\n",
       "    }\n",
       "</style>\n",
       "<table border=\"1\" class=\"dataframe\">\n",
       "  <thead>\n",
       "    <tr style=\"text-align: right;\">\n",
       "      <th></th>\n",
       "      <th>userId</th>\n",
       "      <th>movieId</th>\n",
       "      <th>rating</th>\n",
       "      <th>title</th>\n",
       "    </tr>\n",
       "  </thead>\n",
       "  <tbody>\n",
       "    <tr>\n",
       "      <th>0</th>\n",
       "      <td>1</td>\n",
       "      <td>1</td>\n",
       "      <td>4.0</td>\n",
       "      <td>Toy Story (1995)</td>\n",
       "    </tr>\n",
       "    <tr>\n",
       "      <th>1</th>\n",
       "      <td>1</td>\n",
       "      <td>3</td>\n",
       "      <td>4.0</td>\n",
       "      <td>Grumpier Old Men (1995)</td>\n",
       "    </tr>\n",
       "    <tr>\n",
       "      <th>2</th>\n",
       "      <td>1</td>\n",
       "      <td>6</td>\n",
       "      <td>4.0</td>\n",
       "      <td>Heat (1995)</td>\n",
       "    </tr>\n",
       "    <tr>\n",
       "      <th>3</th>\n",
       "      <td>1</td>\n",
       "      <td>47</td>\n",
       "      <td>5.0</td>\n",
       "      <td>Seven (a.k.a. Se7en) (1995)</td>\n",
       "    </tr>\n",
       "    <tr>\n",
       "      <th>4</th>\n",
       "      <td>1</td>\n",
       "      <td>50</td>\n",
       "      <td>5.0</td>\n",
       "      <td>Usual Suspects, The (1995)</td>\n",
       "    </tr>\n",
       "  </tbody>\n",
       "</table>\n",
       "</div>"
      ],
      "text/plain": [
       "   userId  movieId  rating                        title\n",
       "0       1        1     4.0             Toy Story (1995)\n",
       "1       1        3     4.0      Grumpier Old Men (1995)\n",
       "2       1        6     4.0                  Heat (1995)\n",
       "3       1       47     5.0  Seven (a.k.a. Se7en) (1995)\n",
       "4       1       50     5.0   Usual Suspects, The (1995)"
      ]
     },
     "execution_count": 2,
     "metadata": {},
     "output_type": "execute_result"
    }
   ],
   "source": [
    "movies_df = pd.read_csv(\"./Data/MovieLens/ml-latest-small/movies.csv\", index_col=0)\n",
    "ratings_df = pd.read_csv(\"./Data/MovieLens/ml-latest-small/ratings.csv\", index_col=0)\n",
    "user_ratings_df = pd.read_csv(\"./Data/MovieLens/Processed/user_rating.csv\", index_col=0)\n",
    "user_ratings_df.head()"
   ]
  },
  {
   "cell_type": "markdown",
   "id": "46e7d8d2",
   "metadata": {},
   "source": [
    "# Which are the most viewed movies?"
   ]
  },
  {
   "cell_type": "code",
   "execution_count": 3,
   "id": "29ee912f",
   "metadata": {},
   "outputs": [
    {
     "data": {
      "text/plain": [
       "Forrest Gump (1994)                                                               329\n",
       "Shawshank Redemption, The (1994)                                                  317\n",
       "Pulp Fiction (1994)                                                               307\n",
       "Silence of the Lambs, The (1991)                                                  279\n",
       "Matrix, The (1999)                                                                278\n",
       "Star Wars: Episode IV - A New Hope (1977)                                         251\n",
       "Jurassic Park (1993)                                                              238\n",
       "Braveheart (1995)                                                                 237\n",
       "Terminator 2: Judgment Day (1991)                                                 224\n",
       "Schindler's List (1993)                                                           220\n",
       "Fight Club (1999)                                                                 218\n",
       "Toy Story (1995)                                                                  215\n",
       "Star Wars: Episode V - The Empire Strikes Back (1980)                             211\n",
       "Usual Suspects, The (1995)                                                        204\n",
       "American Beauty (1999)                                                            204\n",
       "Seven (a.k.a. Se7en) (1995)                                                       203\n",
       "Independence Day (a.k.a. ID4) (1996)                                              202\n",
       "Apollo 13 (1995)                                                                  201\n",
       "Raiders of the Lost Ark (Indiana Jones and the Raiders of the Lost Ark) (1981)    200\n",
       "Lord of the Rings: The Fellowship of the Ring, The (2001)                         198\n",
       "Name: title, dtype: int64"
      ]
     },
     "execution_count": 3,
     "metadata": {},
     "output_type": "execute_result"
    }
   ],
   "source": [
    "user_ratings_df['title'].value_counts().head(20)"
   ]
  },
  {
   "cell_type": "markdown",
   "id": "1d3f65fb",
   "metadata": {},
   "source": [
    "# Which are the best rated movies?"
   ]
  },
  {
   "cell_type": "code",
   "execution_count": 4,
   "id": "5f28d9fc",
   "metadata": {},
   "outputs": [
    {
     "data": {
      "text/html": [
       "<div>\n",
       "<style scoped>\n",
       "    .dataframe tbody tr th:only-of-type {\n",
       "        vertical-align: middle;\n",
       "    }\n",
       "\n",
       "    .dataframe tbody tr th {\n",
       "        vertical-align: top;\n",
       "    }\n",
       "\n",
       "    .dataframe thead th {\n",
       "        text-align: right;\n",
       "    }\n",
       "</style>\n",
       "<table border=\"1\" class=\"dataframe\">\n",
       "  <thead>\n",
       "    <tr style=\"text-align: right;\">\n",
       "      <th></th>\n",
       "      <th>rating</th>\n",
       "      <th>number of ratings</th>\n",
       "    </tr>\n",
       "    <tr>\n",
       "      <th>title</th>\n",
       "      <th></th>\n",
       "      <th></th>\n",
       "    </tr>\n",
       "  </thead>\n",
       "  <tbody>\n",
       "    <tr>\n",
       "      <th>Gena the Crocodile (1969)</th>\n",
       "      <td>5.0</td>\n",
       "      <td>1</td>\n",
       "    </tr>\n",
       "    <tr>\n",
       "      <th>True Stories (1986)</th>\n",
       "      <td>5.0</td>\n",
       "      <td>1</td>\n",
       "    </tr>\n",
       "    <tr>\n",
       "      <th>Cosmic Scrat-tastrophe (2015)</th>\n",
       "      <td>5.0</td>\n",
       "      <td>1</td>\n",
       "    </tr>\n",
       "    <tr>\n",
       "      <th>Love and Pigeons (1985)</th>\n",
       "      <td>5.0</td>\n",
       "      <td>1</td>\n",
       "    </tr>\n",
       "    <tr>\n",
       "      <th>Red Sorghum (Hong gao liang) (1987)</th>\n",
       "      <td>5.0</td>\n",
       "      <td>1</td>\n",
       "    </tr>\n",
       "  </tbody>\n",
       "</table>\n",
       "</div>"
      ],
      "text/plain": [
       "                                     rating  number of ratings\n",
       "title                                                         \n",
       "Gena the Crocodile (1969)               5.0                  1\n",
       "True Stories (1986)                     5.0                  1\n",
       "Cosmic Scrat-tastrophe (2015)           5.0                  1\n",
       "Love and Pigeons (1985)                 5.0                  1\n",
       "Red Sorghum (Hong gao liang) (1987)     5.0                  1"
      ]
     },
     "execution_count": 4,
     "metadata": {},
     "output_type": "execute_result"
    }
   ],
   "source": [
    "num_ratings = user_ratings_df['title'].value_counts()\n",
    "mean_ratings = user_ratings_df[['title','rating']].groupby('title').mean().sort_values(by='rating',ascending=False)\n",
    "mean_ratings['number of ratings'] = num_ratings\n",
    "mean_ratings.head()"
   ]
  },
  {
   "cell_type": "markdown",
   "id": "1ee690bf",
   "metadata": {},
   "source": [
    "The movies with the highest ratings tend to be rather obscure movies with only a few ratings. Let's apply a lower cutoff on the number of ratings to recommend movies that are both highly rated and popular"
   ]
  },
  {
   "cell_type": "code",
   "execution_count": 5,
   "id": "e50844b6",
   "metadata": {},
   "outputs": [
    {
     "data": {
      "text/html": [
       "<div>\n",
       "<style scoped>\n",
       "    .dataframe tbody tr th:only-of-type {\n",
       "        vertical-align: middle;\n",
       "    }\n",
       "\n",
       "    .dataframe tbody tr th {\n",
       "        vertical-align: top;\n",
       "    }\n",
       "\n",
       "    .dataframe thead th {\n",
       "        text-align: right;\n",
       "    }\n",
       "</style>\n",
       "<table border=\"1\" class=\"dataframe\">\n",
       "  <thead>\n",
       "    <tr style=\"text-align: right;\">\n",
       "      <th></th>\n",
       "      <th>rating</th>\n",
       "      <th>number of ratings</th>\n",
       "    </tr>\n",
       "    <tr>\n",
       "      <th>title</th>\n",
       "      <th></th>\n",
       "      <th></th>\n",
       "    </tr>\n",
       "  </thead>\n",
       "  <tbody>\n",
       "    <tr>\n",
       "      <th>Shawshank Redemption, The (1994)</th>\n",
       "      <td>4.429022</td>\n",
       "      <td>317</td>\n",
       "    </tr>\n",
       "    <tr>\n",
       "      <th>Godfather, The (1972)</th>\n",
       "      <td>4.289062</td>\n",
       "      <td>192</td>\n",
       "    </tr>\n",
       "    <tr>\n",
       "      <th>Fight Club (1999)</th>\n",
       "      <td>4.272936</td>\n",
       "      <td>218</td>\n",
       "    </tr>\n",
       "    <tr>\n",
       "      <th>Cool Hand Luke (1967)</th>\n",
       "      <td>4.271930</td>\n",
       "      <td>57</td>\n",
       "    </tr>\n",
       "    <tr>\n",
       "      <th>Dr. Strangelove or: How I Learned to Stop Worrying and Love the Bomb (1964)</th>\n",
       "      <td>4.268041</td>\n",
       "      <td>97</td>\n",
       "    </tr>\n",
       "    <tr>\n",
       "      <th>Rear Window (1954)</th>\n",
       "      <td>4.261905</td>\n",
       "      <td>84</td>\n",
       "    </tr>\n",
       "    <tr>\n",
       "      <th>Godfather: Part II, The (1974)</th>\n",
       "      <td>4.259690</td>\n",
       "      <td>129</td>\n",
       "    </tr>\n",
       "    <tr>\n",
       "      <th>Departed, The (2006)</th>\n",
       "      <td>4.252336</td>\n",
       "      <td>107</td>\n",
       "    </tr>\n",
       "    <tr>\n",
       "      <th>Goodfellas (1990)</th>\n",
       "      <td>4.250000</td>\n",
       "      <td>126</td>\n",
       "    </tr>\n",
       "    <tr>\n",
       "      <th>Casablanca (1942)</th>\n",
       "      <td>4.240000</td>\n",
       "      <td>100</td>\n",
       "    </tr>\n",
       "  </tbody>\n",
       "</table>\n",
       "</div>"
      ],
      "text/plain": [
       "                                                      rating  \\\n",
       "title                                                          \n",
       "Shawshank Redemption, The (1994)                    4.429022   \n",
       "Godfather, The (1972)                               4.289062   \n",
       "Fight Club (1999)                                   4.272936   \n",
       "Cool Hand Luke (1967)                               4.271930   \n",
       "Dr. Strangelove or: How I Learned to Stop Worry...  4.268041   \n",
       "Rear Window (1954)                                  4.261905   \n",
       "Godfather: Part II, The (1974)                      4.259690   \n",
       "Departed, The (2006)                                4.252336   \n",
       "Goodfellas (1990)                                   4.250000   \n",
       "Casablanca (1942)                                   4.240000   \n",
       "\n",
       "                                                    number of ratings  \n",
       "title                                                                  \n",
       "Shawshank Redemption, The (1994)                                  317  \n",
       "Godfather, The (1972)                                             192  \n",
       "Fight Club (1999)                                                 218  \n",
       "Cool Hand Luke (1967)                                              57  \n",
       "Dr. Strangelove or: How I Learned to Stop Worry...                 97  \n",
       "Rear Window (1954)                                                 84  \n",
       "Godfather: Part II, The (1974)                                    129  \n",
       "Departed, The (2006)                                              107  \n",
       "Goodfellas (1990)                                                 126  \n",
       "Casablanca (1942)                                                 100  "
      ]
     },
     "execution_count": 5,
     "metadata": {},
     "output_type": "execute_result"
    }
   ],
   "source": [
    "thr = 50\n",
    "mean_ratings_thr = mean_ratings[mean_ratings['number of ratings']>thr]\n",
    "mean_ratings_thr.head(10)"
   ]
  },
  {
   "cell_type": "markdown",
   "id": "19b273b3",
   "metadata": {},
   "source": [
    "# Most commonly seen together items\n",
    "\n",
    "## Method 1: create a co-occurence matrix using linear algebra (simplest and fastest)"
   ]
  },
  {
   "cell_type": "code",
   "execution_count": 6,
   "id": "227d5f2c",
   "metadata": {},
   "outputs": [
    {
     "name": "stdout",
     "output_type": "stream",
     "text": [
      "timer: 2.61\n"
     ]
    },
    {
     "ename": "NameError",
     "evalue": "name 'co_occ_mat' is not defined",
     "output_type": "error",
     "traceback": [
      "\u001b[0;31m---------------------------------------------------------------------------\u001b[0m",
      "\u001b[0;31mNameError\u001b[0m                                 Traceback (most recent call last)",
      "\u001b[0;32m<ipython-input-6-8a200446082c>\u001b[0m in \u001b[0;36m<module>\u001b[0;34m\u001b[0m\n\u001b[1;32m      4\u001b[0m     \u001b[0mA\u001b[0m \u001b[0;34m=\u001b[0m \u001b[0mcsr_matrix\u001b[0m\u001b[0;34m(\u001b[0m\u001b[0mocc_mat\u001b[0m\u001b[0;34m.\u001b[0m\u001b[0mvalues\u001b[0m\u001b[0;34m)\u001b[0m\u001b[0;34m\u001b[0m\u001b[0;34m\u001b[0m\u001b[0m\n\u001b[1;32m      5\u001b[0m     \u001b[0mco_occ_mat2\u001b[0m \u001b[0;34m=\u001b[0m \u001b[0mA\u001b[0m\u001b[0;34m.\u001b[0m\u001b[0mT\u001b[0m\u001b[0;34m@\u001b[0m\u001b[0mA\u001b[0m\u001b[0;34m\u001b[0m\u001b[0;34m\u001b[0m\u001b[0m\n\u001b[0;32m----> 6\u001b[0;31m \u001b[0mplt\u001b[0m\u001b[0;34m.\u001b[0m\u001b[0mimshow\u001b[0m\u001b[0;34m(\u001b[0m\u001b[0mco_occ_mat\u001b[0m\u001b[0;34m[\u001b[0m\u001b[0;34m:\u001b[0m\u001b[0;36m50\u001b[0m\u001b[0;34m,\u001b[0m\u001b[0;34m:\u001b[0m\u001b[0;36m50\u001b[0m\u001b[0;34m]\u001b[0m\u001b[0;34m)\u001b[0m\u001b[0;34m\u001b[0m\u001b[0;34m\u001b[0m\u001b[0m\n\u001b[0m\u001b[1;32m      7\u001b[0m \u001b[0mplt\u001b[0m\u001b[0;34m.\u001b[0m\u001b[0mcolorbar\u001b[0m\u001b[0;34m(\u001b[0m\u001b[0;34m)\u001b[0m\u001b[0;34m\u001b[0m\u001b[0;34m\u001b[0m\u001b[0m\n",
      "\u001b[0;31mNameError\u001b[0m: name 'co_occ_mat' is not defined"
     ]
    }
   ],
   "source": [
    "from scipy.sparse import csr_matrix\n",
    "with timer():\n",
    "    occ_mat = user_ratings_df[['userId','title','rating']].pivot_table(index='userId', columns='title', values='rating', fill_value=0, aggfunc='count')\n",
    "    A = csr_matrix(occ_mat.values)\n",
    "    co_occ_mat2 = A.T@A\n",
    "plt.imshow(co_occ_mat[:50,:50])\n",
    "plt.colorbar()"
   ]
  },
  {
   "cell_type": "markdown",
   "id": "f5aba854",
   "metadata": {},
   "source": [
    "## Method 2: create a co-occurence matrix by parsing users and movies (more complex (bugprone) and slower)"
   ]
  },
  {
   "cell_type": "code",
   "execution_count": null,
   "id": "af26e58f",
   "metadata": {},
   "outputs": [],
   "source": [
    "# Note: if the data were really large, perm_mat could be built blockwise and converted to sparse matrix format\n",
    "# we could also take advantage of the fact that the matrix is triangular to that one half doesn't need to be computer or stored\n",
    "movie_list = user_ratings_df['movieId'].unique()\n",
    "num_movies = len(movie_list)\n",
    "\n",
    "MAP_movies = dict(zip(movie_list,range(num_movies)))\n",
    "co_occ_mat = np.zeros((num_movies, num_movies))\n",
    "with timer():\n",
    "    for user in ratings_df.index.unique():\n",
    "        movies = ratings_df.loc[user,'movieId'].values\n",
    "        movies = list(map(lambda x: MAP_movies[x], movies))\n",
    "        for movie in movies:\n",
    "            co_occ_mat[movie, movies] += 1\n",
    "        \n",
    "# Visualize a small portion of the matrix\n",
    "plt.imshow(co_occ_mat[:50,:50])\n",
    "plt.colorbar()"
   ]
  },
  {
   "cell_type": "markdown",
   "id": "fa3b2807",
   "metadata": {},
   "source": [
    "## Method 3: Datacamp course method (most complicated and slowest)"
   ]
  },
  {
   "cell_type": "code",
   "execution_count": null,
   "id": "8036061c",
   "metadata": {},
   "outputs": [],
   "source": [
    "from itertools import permutations\n",
    "\n",
    "# Create the function to find all permutations\n",
    "def find_movie_pairs(x):\n",
    "  pairs = pd.DataFrame(list(permutations(x.values, 2)),\n",
    "                       columns=['movie_a', 'movie_b'])\n",
    "  return pairs\n",
    "\n",
    "# Apply the function to the title column and reset the index\n",
    "with timer():\n",
    "    movie_combinations = user_ratings_df.groupby('userId')['title'].apply(find_movie_pairs).reset_index(drop=True)\n",
    "\n",
    "movie_combinations.head()"
   ]
  },
  {
   "cell_type": "code",
   "execution_count": null,
   "id": "36728a0c",
   "metadata": {},
   "outputs": [],
   "source": [
    "with timer():# Calculate how often each item in movie_a occurs with the items in movie_b\n",
    "    combination_counts = movie_combinations.groupby(['movie_a', 'movie_b']).size()\n",
    "\n",
    "    # Convert the results to a DataFrame and reset the index\n",
    "    combination_counts_df = combination_counts.to_frame(name='size').reset_index()\n",
    "combination_counts_df.head()"
   ]
  },
  {
   "cell_type": "markdown",
   "id": "45ffe44f",
   "metadata": {},
   "source": [
    "## Verify that the two methods give the same results"
   ]
  },
  {
   "cell_type": "code",
   "execution_count": null,
   "id": "0dfe36d3",
   "metadata": {},
   "outputs": [],
   "source": [
    "movie_title = 'Jack (1996)'"
   ]
  },
  {
   "cell_type": "code",
   "execution_count": null,
   "id": "007f4f81",
   "metadata": {},
   "outputs": [],
   "source": [
    "# Method 1\n",
    "movieId = movies_df.loc[movies_df['title']==movie_title].index[0]\n",
    "matId = MAP_movies[movieId]\n",
    "temp = pd.DataFrame({'movieId': movie_list, 'size':co_occ_mat[matId,:]})\n",
    "temp['title'] = movies_df.loc[temp['movieId'],'title'].values\n",
    "temp.sort_values(by='size',ascending=False).head(10)"
   ]
  },
  {
   "cell_type": "code",
   "execution_count": null,
   "id": "f7e1b212",
   "metadata": {},
   "outputs": [],
   "source": [
    "# Method 2\n",
    "combination_counts_df.loc[pair_counts_df['movie A']==movie_title].sort_values(by='size',ascending=False).head(5)"
   ]
  },
  {
   "cell_type": "markdown",
   "id": "7bc724b0",
   "metadata": {},
   "source": [
    "Both methods yield the same results. Good! Here's a comparison between the two methods:\n",
    "\n",
    "- Method 1 has the advantage of being fast, both to create the matrix and access the data. Also, it can be stored as an triangular sparse matrix, which would make it memory efficient. The disadvantage is that it needs to be coded by hand and I made quite a few bugs before I managed to set and retrieved the data correctly. Bugs were not easy to find since the data looked reasonable. Another advantage is that the data is easily visualized with a heatmap, and the structure is pretty transparent.\n",
    "\n",
    "- Method 2 is WAAAY slower than method 1, both to generate the table and to access data. The creation of the table is also quite convoluted. Also, the titles need to be stored, and in the end it will take more space than method 1 (assuming that we would use a sparse matrix format). But there might be less chance of coding bugs because if it's coded improperly, the results will look nothing like what we want."
   ]
  },
  {
   "cell_type": "code",
   "execution_count": null,
   "id": "64b42376",
   "metadata": {},
   "outputs": [],
   "source": []
  },
  {
   "cell_type": "code",
   "execution_count": null,
   "id": "501f8777",
   "metadata": {},
   "outputs": [],
   "source": [
    "with timer():\n",
    "    "
   ]
  },
  {
   "cell_type": "code",
   "execution_count": null,
   "id": "be86aa14",
   "metadata": {},
   "outputs": [],
   "source": [
    "occ_mat.values.dtype"
   ]
  },
  {
   "cell_type": "code",
   "execution_count": null,
   "id": "ae086834",
   "metadata": {},
   "outputs": [],
   "source": [
    "occ_mat.shape"
   ]
  },
  {
   "cell_type": "code",
   "execution_count": null,
   "id": "1017d739",
   "metadata": {},
   "outputs": [],
   "source": [
    "user_ratings_df.shape"
   ]
  },
  {
   "cell_type": "code",
   "execution_count": null,
   "id": "6dc7852d",
   "metadata": {},
   "outputs": [],
   "source": []
  }
 ],
 "metadata": {
  "kernelspec": {
   "display_name": "Python 3",
   "language": "python",
   "name": "python3"
  },
  "language_info": {
   "codemirror_mode": {
    "name": "ipython",
    "version": 3
   },
   "file_extension": ".py",
   "mimetype": "text/x-python",
   "name": "python",
   "nbconvert_exporter": "python",
   "pygments_lexer": "ipython3",
   "version": "3.8.0"
  }
 },
 "nbformat": 4,
 "nbformat_minor": 5
}
