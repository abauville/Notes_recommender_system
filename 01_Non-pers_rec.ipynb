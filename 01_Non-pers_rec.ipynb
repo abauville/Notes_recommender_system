{
 "cells": [
  {
   "cell_type": "markdown",
   "id": "8d2f8c75",
   "metadata": {},
   "source": [
    "# Non-personalized recommandation"
   ]
  },
  {
   "cell_type": "code",
   "execution_count": 45,
   "id": "bcea6e37",
   "metadata": {},
   "outputs": [],
   "source": [
    "# Imports\n",
    "\n",
    "import pandas as pd\n",
    "import numpy as np\n",
    "import seaborn as sns\n",
    "import plotly.express as px\n",
    "import matplotlib.pyplot as plt"
   ]
  },
  {
   "cell_type": "code",
   "execution_count": 46,
   "id": "1af832f2",
   "metadata": {},
   "outputs": [
    {
     "data": {
      "text/html": [
       "<div>\n",
       "<style scoped>\n",
       "    .dataframe tbody tr th:only-of-type {\n",
       "        vertical-align: middle;\n",
       "    }\n",
       "\n",
       "    .dataframe tbody tr th {\n",
       "        vertical-align: top;\n",
       "    }\n",
       "\n",
       "    .dataframe thead th {\n",
       "        text-align: right;\n",
       "    }\n",
       "</style>\n",
       "<table border=\"1\" class=\"dataframe\">\n",
       "  <thead>\n",
       "    <tr style=\"text-align: right;\">\n",
       "      <th></th>\n",
       "      <th>userId</th>\n",
       "      <th>movieId</th>\n",
       "      <th>rating</th>\n",
       "      <th>title</th>\n",
       "    </tr>\n",
       "  </thead>\n",
       "  <tbody>\n",
       "    <tr>\n",
       "      <th>0</th>\n",
       "      <td>1</td>\n",
       "      <td>1</td>\n",
       "      <td>4.0</td>\n",
       "      <td>Jumanji (1995)</td>\n",
       "    </tr>\n",
       "    <tr>\n",
       "      <th>1</th>\n",
       "      <td>1</td>\n",
       "      <td>3</td>\n",
       "      <td>4.0</td>\n",
       "      <td>Jumanji (1995)</td>\n",
       "    </tr>\n",
       "    <tr>\n",
       "      <th>2</th>\n",
       "      <td>1</td>\n",
       "      <td>6</td>\n",
       "      <td>4.0</td>\n",
       "      <td>Jumanji (1995)</td>\n",
       "    </tr>\n",
       "    <tr>\n",
       "      <th>3</th>\n",
       "      <td>1</td>\n",
       "      <td>47</td>\n",
       "      <td>5.0</td>\n",
       "      <td>Jumanji (1995)</td>\n",
       "    </tr>\n",
       "    <tr>\n",
       "      <th>4</th>\n",
       "      <td>1</td>\n",
       "      <td>50</td>\n",
       "      <td>5.0</td>\n",
       "      <td>Jumanji (1995)</td>\n",
       "    </tr>\n",
       "  </tbody>\n",
       "</table>\n",
       "</div>"
      ],
      "text/plain": [
       "   userId  movieId  rating           title\n",
       "0       1        1     4.0  Jumanji (1995)\n",
       "1       1        3     4.0  Jumanji (1995)\n",
       "2       1        6     4.0  Jumanji (1995)\n",
       "3       1       47     5.0  Jumanji (1995)\n",
       "4       1       50     5.0  Jumanji (1995)"
      ]
     },
     "execution_count": 46,
     "metadata": {},
     "output_type": "execute_result"
    }
   ],
   "source": [
    "user_ratings_df = pd.read_csv(\"./Data/MovieLens/Processed/user_rating.csv\", index_col=0)\n",
    "user_ratings_df.head()"
   ]
  },
  {
   "cell_type": "markdown",
   "id": "735a5465",
   "metadata": {},
   "source": [
    "# Which are the most viewed movies?"
   ]
  },
  {
   "cell_type": "code",
   "execution_count": 55,
   "id": "5df457c4",
   "metadata": {},
   "outputs": [
    {
     "data": {
      "text/plain": [
       "Inkwell, The (1994)                        2698\n",
       "Wallace & Gromit: A Close Shave (1995)     2478\n",
       "Blade Runner (1982)                        2108\n",
       "Radioland Murders (1994)                   1864\n",
       "Specialist, The (1994)                     1346\n",
       "I Shot Andy Warhol (1996)                  1302\n",
       "Screamers (1995)                           1260\n",
       "Color of Night (1994)                      1218\n",
       "Phantom, The (1996)                        1115\n",
       "Tales from the Hood (1995)                 1055\n",
       "Natural Born Killers (1994)                1046\n",
       "Fatal Instinct (1993)                      1027\n",
       "Before the Rain (Pred dozhdot) (1994)       977\n",
       "Clear and Present Danger (1994)             975\n",
       "Ashes of Time (Dung che sai duk) (1994)     943\n",
       "War, The (1994)                             939\n",
       "White Man's Burden (1995)                   904\n",
       "I Love Trouble (1994)                       879\n",
       "Love Affair (1994)                          862\n",
       "Terminal Velocity (1994)                    836\n",
       "Name: title, dtype: int64"
      ]
     },
     "execution_count": 55,
     "metadata": {},
     "output_type": "execute_result"
    }
   ],
   "source": [
    "user_ratings_df['title'].value_counts().head(20)"
   ]
  },
  {
   "cell_type": "code",
   "execution_count": 54,
   "id": "525fe8f7",
   "metadata": {},
   "outputs": [
    {
     "data": {
      "text/plain": [
       "1996"
      ]
     },
     "execution_count": 54,
     "metadata": {},
     "output_type": "execute_result"
    }
   ],
   "source": [
    "# year = [t[-5:-1] for t in user_ratings_df['title']]\n",
    "year = []\n",
    "for t in user_ratings_df['title']:\n",
    "    try:\n",
    "        year.append(int(t[-5:-1]))\n",
    "    except ValueError:\n",
    "        pass\n",
    "        \n",
    "year = np.array(year)\n",
    "np.max(year)"
   ]
  },
  {
   "cell_type": "code",
   "execution_count": 29,
   "id": "22cc1a8c",
   "metadata": {},
   "outputs": [
    {
     "data": {
      "text/plain": [
       "1989.0"
      ]
     },
     "execution_count": 29,
     "metadata": {},
     "output_type": "execute_result"
    }
   ],
   "source": [
    "float('1989')"
   ]
  },
  {
   "cell_type": "code",
   "execution_count": null,
   "id": "62455219",
   "metadata": {},
   "outputs": [],
   "source": []
  }
 ],
 "metadata": {
  "kernelspec": {
   "display_name": "Python 3",
   "language": "python",
   "name": "python3"
  },
  "language_info": {
   "codemirror_mode": {
    "name": "ipython",
    "version": 3
   },
   "file_extension": ".py",
   "mimetype": "text/x-python",
   "name": "python",
   "nbconvert_exporter": "python",
   "pygments_lexer": "ipython3",
   "version": "3.8.0"
  }
 },
 "nbformat": 4,
 "nbformat_minor": 5
}
