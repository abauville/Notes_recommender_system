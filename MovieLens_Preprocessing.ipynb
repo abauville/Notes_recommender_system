{
 "cells": [
  {
   "cell_type": "markdown",
   "id": "fa8e7a41",
   "metadata": {},
   "source": [
    "# Recreating the datacamp's dataset\n"
   ]
  },
  {
   "cell_type": "code",
   "execution_count": 19,
   "id": "024fb065",
   "metadata": {},
   "outputs": [
    {
     "data": {
      "text/html": [
       "<div>\n",
       "<style scoped>\n",
       "    .dataframe tbody tr th:only-of-type {\n",
       "        vertical-align: middle;\n",
       "    }\n",
       "\n",
       "    .dataframe tbody tr th {\n",
       "        vertical-align: top;\n",
       "    }\n",
       "\n",
       "    .dataframe thead th {\n",
       "        text-align: right;\n",
       "    }\n",
       "</style>\n",
       "<table border=\"1\" class=\"dataframe\">\n",
       "  <thead>\n",
       "    <tr style=\"text-align: right;\">\n",
       "      <th></th>\n",
       "      <th>userId</th>\n",
       "      <th>movieId</th>\n",
       "      <th>rating</th>\n",
       "      <th>title</th>\n",
       "    </tr>\n",
       "  </thead>\n",
       "  <tbody>\n",
       "    <tr>\n",
       "      <th>0</th>\n",
       "      <td>1</td>\n",
       "      <td>1</td>\n",
       "      <td>4.0</td>\n",
       "      <td>Toy Story (1995)</td>\n",
       "    </tr>\n",
       "    <tr>\n",
       "      <th>1</th>\n",
       "      <td>1</td>\n",
       "      <td>3</td>\n",
       "      <td>4.0</td>\n",
       "      <td>Grumpier Old Men (1995)</td>\n",
       "    </tr>\n",
       "    <tr>\n",
       "      <th>2</th>\n",
       "      <td>1</td>\n",
       "      <td>6</td>\n",
       "      <td>4.0</td>\n",
       "      <td>Heat (1995)</td>\n",
       "    </tr>\n",
       "    <tr>\n",
       "      <th>3</th>\n",
       "      <td>1</td>\n",
       "      <td>47</td>\n",
       "      <td>5.0</td>\n",
       "      <td>Seven (a.k.a. Se7en) (1995)</td>\n",
       "    </tr>\n",
       "    <tr>\n",
       "      <th>4</th>\n",
       "      <td>1</td>\n",
       "      <td>50</td>\n",
       "      <td>5.0</td>\n",
       "      <td>Usual Suspects, The (1995)</td>\n",
       "    </tr>\n",
       "  </tbody>\n",
       "</table>\n",
       "</div>"
      ],
      "text/plain": [
       "   userId  movieId  rating                        title\n",
       "0       1        1     4.0             Toy Story (1995)\n",
       "1       1        3     4.0      Grumpier Old Men (1995)\n",
       "2       1        6     4.0                  Heat (1995)\n",
       "3       1       47     5.0  Seven (a.k.a. Se7en) (1995)\n",
       "4       1       50     5.0   Usual Suspects, The (1995)"
      ]
     },
     "execution_count": 19,
     "metadata": {},
     "output_type": "execute_result"
    }
   ],
   "source": [
    "user_ratings_df = ratings_df.copy()\n",
    "user_ratings_df.drop('timestamp',axis=1,inplace=True)\n",
    "user_ratings_df['title'] = movies_df.loc[user_ratings_df[\"movieId\"]][\"title\"].values\n",
    "user_ratings_df.reset_index(inplace=True)\n",
    "user_ratings_df.head()"
   ]
  },
  {
   "cell_type": "code",
   "execution_count": 19,
   "id": "3f4a066b",
   "metadata": {},
   "outputs": [
    {
     "data": {
      "text/html": [
       "<div>\n",
       "<style scoped>\n",
       "    .dataframe tbody tr th:only-of-type {\n",
       "        vertical-align: middle;\n",
       "    }\n",
       "\n",
       "    .dataframe tbody tr th {\n",
       "        vertical-align: top;\n",
       "    }\n",
       "\n",
       "    .dataframe thead th {\n",
       "        text-align: right;\n",
       "    }\n",
       "</style>\n",
       "<table border=\"1\" class=\"dataframe\">\n",
       "  <thead>\n",
       "    <tr style=\"text-align: right;\">\n",
       "      <th></th>\n",
       "      <th>userId</th>\n",
       "      <th>movieId</th>\n",
       "      <th>rating</th>\n",
       "      <th>title</th>\n",
       "    </tr>\n",
       "  </thead>\n",
       "  <tbody>\n",
       "    <tr>\n",
       "      <th>0</th>\n",
       "      <td>1</td>\n",
       "      <td>1</td>\n",
       "      <td>4.0</td>\n",
       "      <td>Toy Story (1995)</td>\n",
       "    </tr>\n",
       "    <tr>\n",
       "      <th>1</th>\n",
       "      <td>1</td>\n",
       "      <td>3</td>\n",
       "      <td>4.0</td>\n",
       "      <td>Grumpier Old Men (1995)</td>\n",
       "    </tr>\n",
       "    <tr>\n",
       "      <th>2</th>\n",
       "      <td>1</td>\n",
       "      <td>6</td>\n",
       "      <td>4.0</td>\n",
       "      <td>Heat (1995)</td>\n",
       "    </tr>\n",
       "    <tr>\n",
       "      <th>3</th>\n",
       "      <td>1</td>\n",
       "      <td>47</td>\n",
       "      <td>5.0</td>\n",
       "      <td>Seven (a.k.a. Se7en) (1995)</td>\n",
       "    </tr>\n",
       "    <tr>\n",
       "      <th>4</th>\n",
       "      <td>1</td>\n",
       "      <td>50</td>\n",
       "      <td>5.0</td>\n",
       "      <td>Usual Suspects, The (1995)</td>\n",
       "    </tr>\n",
       "  </tbody>\n",
       "</table>\n",
       "</div>"
      ],
      "text/plain": [
       "   userId  movieId  rating                        title\n",
       "0       1        1     4.0             Toy Story (1995)\n",
       "1       1        3     4.0      Grumpier Old Men (1995)\n",
       "2       1        6     4.0                  Heat (1995)\n",
       "3       1       47     5.0  Seven (a.k.a. Se7en) (1995)\n",
       "4       1       50     5.0   Usual Suspects, The (1995)"
      ]
     },
     "execution_count": 19,
     "metadata": {},
     "output_type": "execute_result"
    }
   ],
   "source": [
    "user_ratings_df = ratings_df.copy()\n",
    "user_ratings_df.drop('timestamp',axis=1,inplace=True)\n",
    "user_ratings_df['title'] = movies_df.loc[user_ratings_df[\"movieId\"]][\"title\"].values\n",
    "user_ratings_df.reset_index(inplace=True)\n",
    "user_ratings_df.head()"
   ]
  },
  {
   "cell_type": "code",
   "execution_count": 20,
   "id": "074b77fc",
   "metadata": {},
   "outputs": [],
   "source": [
    "user_ratings_df.to_csv(\"./Data/MovieLens/Processed/user_rating.csv\")"
   ]
  },
  {
   "cell_type": "code",
   "execution_count": 21,
   "id": "57d9a953",
   "metadata": {},
   "outputs": [
    {
     "data": {
      "text/plain": [
       "2018"
      ]
     },
     "execution_count": 21,
     "metadata": {},
     "output_type": "execute_result"
    }
   ],
   "source": [
    "# Extract year\n",
    "year = []\n",
    "for t in user_ratings_df['title']:\n",
    "    try:\n",
    "        year.append(int(t[-5:-1]))\n",
    "    except ValueError:\n",
    "        pass\n",
    "        \n",
    "year = np.array(year)\n",
    "np.max(year)\n"
   ]
  },
  {
   "cell_type": "code",
   "execution_count": 21,
   "id": "5341d4bc",
   "metadata": {},
   "outputs": [
    {
     "data": {
      "text/plain": [
       "2018"
      ]
     },
     "execution_count": 21,
     "metadata": {},
     "output_type": "execute_result"
    }
   ],
   "source": [
    "# Extract year\n",
    "year = []\n",
    "for t in user_ratings_df['title']:\n",
    "    try:\n",
    "        year.append(int(t[-5:-1]))\n",
    "    except ValueError:\n",
    "        pass\n",
    "        \n",
    "year = np.array(year)\n",
    "np.max(year)\n"
   ]
  },
  {
   "cell_type": "code",
   "execution_count": null,
   "id": "383f1e87",
   "metadata": {},
   "outputs": [],
   "source": []
  },
  {
   "cell_type": "code",
   "execution_count": null,
   "id": "15796398",
   "metadata": {},
   "outputs": [],
   "source": []
  }
 ],
 "metadata": {
  "kernelspec": {
   "display_name": "Python 3",
   "language": "python",
   "name": "python3"
  },
  "language_info": {
   "codemirror_mode": {
    "name": "ipython",
    "version": 3
   },
   "file_extension": ".py",
   "mimetype": "text/x-python",
   "name": "python",
   "nbconvert_exporter": "python",
   "pygments_lexer": "ipython3",
   "version": "3.8.0"
  }
 },
 "nbformat": 4,
 "nbformat_minor": 5
}
